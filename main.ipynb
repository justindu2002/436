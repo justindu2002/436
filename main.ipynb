{
 "cells": [
  {
   "cell_type": "code",
   "execution_count": null,
   "metadata": {},
   "outputs": [],
   "source": [
    "import pandas as pd\n",
    "df = pd.read_csv('2018.csv')"
   ]
  },
  {
   "cell_type": "code",
   "execution_count": null,
   "metadata": {},
   "outputs": [],
   "source": [
    "#Data Cleaning\n",
    "\n",
    "#clean columns\n",
    "important_columns = ['FL_DATE', 'OP_CARRIER', 'ORIGIN', 'CRS_DEP_TIME', 'DEP_DELAY']\n",
    "df_cleaned = df[important_columns]\n",
    "\n",
    "#check for null values & Remove rows with null\n",
    "#nan_count = df_cleaned.isna().sum()\n",
    "#print(nan_count)\n",
    "df_cleaned = df_cleaned.dropna(subset=important_columns)\n",
    "\n",
    "df_cleaned = df_cleaned.sample(n=100000, random_state=1)\n",
    "\n",
    "#Ccleaning data types\n",
    "df_cleaned['FL_DATE'] = pd.to_datetime(df_cleaned['FL_DATE'])\n",
    "df_cleaned['CRS_DEP_TIME'] = df_cleaned['CRS_DEP_TIME'].astype(int)\n",
    "df_cleaned['DEP_DELAY'] = df_cleaned['DEP_DELAY'].astype(float)\n",
    "\n",
    "#flight times into month and day of week\n",
    "df_cleaned['MONTH'] = df_cleaned['FL_DATE'].dt.month\n",
    "df_cleaned['DAY_OF_WEEK'] = df_cleaned['FL_DATE'].dt.dayofweek\n",
    "\n"
   ]
  },
  {
   "cell_type": "code",
   "execution_count": null,
   "metadata": {},
   "outputs": [],
   "source": [
    "# Checking for correlation between arr_delay and all other variables\n",
    "\n",
    "# corr_matrix = df.corr()\n",
    "\n",
    "# # Check correlation with 'arr_delay'\n",
    "# arr_delay_corr = corr_matrix['arr_delay']\n",
    "\n",
    "# print(\"Correlation with arr_delay:\")\n",
    "# print(arr_delay_corr)\n",
    "\n",
    "# print(df.head(3))"
   ]
  },
  {
   "cell_type": "code",
   "execution_count": null,
   "metadata": {},
   "outputs": [],
   "source": [
    "#Linear Regression Algorithm\n",
    "from sklearn.model_selection import train_test_split\n",
    "from sklearn.linear_model import LinearRegression\n",
    "from sklearn.metrics import mean_squared_error, r2_score\n",
    "from sklearn.preprocessing import LabelEncoder\n",
    "\n",
    "\n",
    "#label encoding airlines and airport origins(split categorical into new columns with binary values)\n",
    "encoder = LabelEncoder()\n",
    "df_cleaned['OP_CARRIER'] = encoder.fit_transform(df_cleaned['OP_CARRIER'])\n",
    "df_cleaned['ORIGIN'] = encoder.fit_transform(df_cleaned['ORIGIN'])\n",
    "#X_encode = pd.get_dummies(X, columns=['OP_CARRIER', 'ORIGIN'])\n",
    "\n",
    "#model features\n",
    "#X = df_cleaned[['MONTH', 'DAY_OF_WEEK', 'OP_CARRIER', 'ORIGIN', 'CRS_DEP_TIME', 'DEP_DELAY', 'CARRIER_DELAY', 'WEATHER_DELAY', 'NAS_DELAY', 'SECURITY_DELAY', 'LATE_AIRCRAFT_DELAY']] \n",
    "X = df_cleaned[['MONTH', 'DAY_OF_WEEK', 'OP_CARRIER', 'ORIGIN', 'CRS_DEP_TIME']] \n",
    "#model target\n",
    "y = df_cleaned['DEP_DELAY'] \n",
    "\n",
    "\n",
    "#split into training and testing sets\n",
    "X_train, X_test, y_train, y_test = train_test_split(X, y, test_size=0.2, random_state=1)\n",
    "\n",
    "#train model\n",
    "model_lr = LinearRegression()\n",
    "model_lr.fit(X_train, y_train)\n",
    "\n",
    "#apply model to test set\n",
    "y_pred_lr = model_lr.predict(X_test)\n",
    "\n",
    "#model evaluation\n",
    "mse_lr = mean_squared_error(y_test, y_pred_lr)\n",
    "r2_lr = r2_score(y_test, y_pred_lr)\n",
    "print(f\"Linear Regression Mean Squared Error: {mse_lr}\")\n",
    "print(f\"Linear Regression R^2 Score: {r2_lr}\")\n"
   ]
  },
  {
   "cell_type": "code",
   "execution_count": null,
   "metadata": {},
   "outputs": [],
   "source": [
    "# Random Forest Algorithm\n",
    "from sklearn.ensemble import RandomForestRegressor\n",
    "\n",
    "#train randomforestregressor model\n",
    "model_rf = RandomForestRegressor(n_estimators=100, random_state=1)\n",
    "model_rf.fit(X_train, y_train)\n",
    "\n",
    "#predict on test set\n",
    "y_pred_rf = model_rf.predict(X_test)\n",
    "\n",
    "#model evaluation\n",
    "mse_rf = mean_squared_error(y_test, y_pred_rf)\n",
    "r2_rf = r2_score(y_test, y_pred_rf)\n",
    "print(f\"Random Forest Regression Mean Squared Error: {mse_rf}\")\n",
    "print(f\"Random Forest Regression R^2 Score: {r2_rf}\")"
   ]
  },
  {
   "cell_type": "code",
   "execution_count": null,
   "metadata": {},
   "outputs": [],
   "source": [
    "#Random Forest Classifier\n",
    "from sklearn.ensemble import RandomForestClassifier\n",
    "from sklearn.metrics import accuracy_score\n",
    "\n",
    "#model target\n",
    "y_class = (df_cleaned['DEP_DELAY'] > 0).astype(int)\n",
    "\n",
    "#split into training and testing sets\n",
    "X_train, X_test, y_train_class, y_test_class = train_test_split(X, y_class, test_size=0.2, random_state=1)\n",
    "\n",
    "#train model\n",
    "model_class = RandomForestClassifier(random_state=1)\n",
    "model_class.fit(X_train, y_train_class)\n",
    "\n",
    "#predict on test set\n",
    "y_pred_class = model_class.predict(X_test)\n",
    "\n",
    "#model evluatiation\n",
    "class_accuracy = accuracy_score(y_test_class, y_pred_class)\n",
    "print(f'Classification Accuracy: {class_accuracy}')\n"
   ]
  }
 ],
 "metadata": {
  "kernelspec": {
   "display_name": "Python 3",
   "language": "python",
   "name": "python3"
  },
  "language_info": {
   "codemirror_mode": {
    "name": "ipython",
    "version": 3
   },
   "file_extension": ".py",
   "mimetype": "text/x-python",
   "name": "python",
   "nbconvert_exporter": "python",
   "pygments_lexer": "ipython3",
   "version": "3.11.8"
  }
 },
 "nbformat": 4,
 "nbformat_minor": 2
}
